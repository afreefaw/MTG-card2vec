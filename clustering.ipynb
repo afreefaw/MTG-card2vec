{
 "cells": [
  {
   "cell_type": "markdown",
   "id": "ed098dc1-6edb-48ed-91a9-9dff26267b18",
   "metadata": {},
   "source": [
    "# Clustering\n",
    "\n",
    "**This workbook conducts a clustering analysis on a specified set of card-vectors**"
   ]
  },
  {
   "cell_type": "code",
   "execution_count": 1,
   "id": "5304138d-6f9c-4004-b502-db940b936bdc",
   "metadata": {},
   "outputs": [],
   "source": [
    "# You must specify the file name of the model you want to load (in the 'models' folder)\n",
    "model_name = 'card2vec-SNC-w40-v100-e302.model'"
   ]
  },
  {
   "cell_type": "code",
   "execution_count": 2,
   "id": "45e54d2a-7738-4485-bedc-00a1a7820253",
   "metadata": {},
   "outputs": [],
   "source": [
    "from scry import scry #For scryfall API calls\n",
    "\n",
    "from sklearn.manifold import TSNE\n",
    "from gensim.models import Word2Vec, KeyedVectors\n",
    "from os import getcwd\n",
    "import matplotlib.pyplot as plt\n",
    "import altair as alt\n",
    "import pandas as pd\n",
    "import requests\n",
    "import time\n",
    "# import scrython"
   ]
  },
  {
   "cell_type": "markdown",
   "id": "1d0bbc24-ee89-4b2e-82fa-75c1c9a4e1ca",
   "metadata": {},
   "source": [
    "### Load the model containing the card-vectors of interest"
   ]
  },
  {
   "cell_type": "code",
   "execution_count": 3,
   "id": "19149d8f-2084-4f24-8cfe-30a7df606464",
   "metadata": {},
   "outputs": [],
   "source": [
    "model_path = getcwd() + '\\\\models\\\\' + model_name\n",
    "model = Word2Vec.load(model_path)"
   ]
  },
  {
   "cell_type": "code",
   "execution_count": 4,
   "id": "232b0e19-6cb9-4165-ba22-bbcd813419b0",
   "metadata": {},
   "outputs": [],
   "source": [
    "# we only want the KeyedVector of card-embeddings, so we can discard the rest of the model\n",
    "card_vectors_keyed = model.wv\n",
    "del(model)\n",
    "\n",
    "#get the card vectors themselves by index (card name)\n",
    "card_vectors = card_vectors_keyed[card_vectors_keyed.index_to_key]"
   ]
  },
  {
   "cell_type": "markdown",
   "id": "55e29327-f68d-4195-aa35-8fa127945a82",
   "metadata": {},
   "source": [
    "### Cluster Using t-SNE"
   ]
  },
  {
   "cell_type": "code",
   "execution_count": 5,
   "id": "9049aa21-fbc6-4cde-903a-9204d8a7aa1e",
   "metadata": {},
   "outputs": [
    {
     "name": "stderr",
     "output_type": "stream",
     "text": [
      "C:\\Users\\Ariel\\anaconda3\\lib\\site-packages\\sklearn\\manifold\\_t_sne.py:780: FutureWarning: The default initialization in TSNE will change from 'random' to 'pca' in 1.2.\n",
      "  warnings.warn(\n",
      "C:\\Users\\Ariel\\anaconda3\\lib\\site-packages\\sklearn\\manifold\\_t_sne.py:790: FutureWarning: The default learning rate in TSNE will change from 200.0 to 'auto' in 1.2.\n",
      "  warnings.warn(\n"
     ]
    }
   ],
   "source": [
    "#Instantiate t-SNE model and run it on card_vectors\n",
    "tsne_model = TSNE(n_components=2)\n",
    "tsne_out = tsne_model.fit_transform(card_vectors)"
   ]
  },
  {
   "cell_type": "code",
   "execution_count": 6,
   "id": "676039f9-47b3-4ec3-9165-0f8fb2afdad6",
   "metadata": {},
   "outputs": [],
   "source": [
    "# Create a DataFrame from t-SNE outputs\n",
    "tsne_df = pd.DataFrame(tsne_out, index=card_vectors_keyed.index_to_key, columns = ['a','b']) # arbitrary names for t-SNE components\n",
    "tsne_df['card'] = card_vectors_keyed.index_to_key"
   ]
  },
  {
   "cell_type": "code",
   "execution_count": 7,
   "id": "c2e3a141-1376-4682-a291-86b50c5055bc",
   "metadata": {},
   "outputs": [
    {
     "data": {
      "text/html": [
       "<div>\n",
       "<style scoped>\n",
       "    .dataframe tbody tr th:only-of-type {\n",
       "        vertical-align: middle;\n",
       "    }\n",
       "\n",
       "    .dataframe tbody tr th {\n",
       "        vertical-align: top;\n",
       "    }\n",
       "\n",
       "    .dataframe thead th {\n",
       "        text-align: right;\n",
       "    }\n",
       "</style>\n",
       "<table border=\"1\" class=\"dataframe\">\n",
       "  <thead>\n",
       "    <tr style=\"text-align: right;\">\n",
       "      <th></th>\n",
       "      <th>a</th>\n",
       "      <th>b</th>\n",
       "      <th>card</th>\n",
       "    </tr>\n",
       "  </thead>\n",
       "  <tbody>\n",
       "    <tr>\n",
       "      <th>Plains</th>\n",
       "      <td>-7.246717</td>\n",
       "      <td>-9.887819</td>\n",
       "      <td>Plains</td>\n",
       "    </tr>\n",
       "    <tr>\n",
       "      <th>Island</th>\n",
       "      <td>-11.327468</td>\n",
       "      <td>0.553773</td>\n",
       "      <td>Island</td>\n",
       "    </tr>\n",
       "    <tr>\n",
       "      <th>Forest</th>\n",
       "      <td>3.474151</td>\n",
       "      <td>-7.412608</td>\n",
       "      <td>Forest</td>\n",
       "    </tr>\n",
       "    <tr>\n",
       "      <th>Swamp</th>\n",
       "      <td>-0.402023</td>\n",
       "      <td>13.054970</td>\n",
       "      <td>Swamp</td>\n",
       "    </tr>\n",
       "    <tr>\n",
       "      <th>Mountain</th>\n",
       "      <td>8.896812</td>\n",
       "      <td>6.164212</td>\n",
       "      <td>Mountain</td>\n",
       "    </tr>\n",
       "  </tbody>\n",
       "</table>\n",
       "</div>"
      ],
      "text/plain": [
       "                  a          b      card\n",
       "Plains    -7.246717  -9.887819    Plains\n",
       "Island   -11.327468   0.553773    Island\n",
       "Forest     3.474151  -7.412608    Forest\n",
       "Swamp     -0.402023  13.054970     Swamp\n",
       "Mountain   8.896812   6.164212  Mountain"
      ]
     },
     "execution_count": 7,
     "metadata": {},
     "output_type": "execute_result"
    }
   ],
   "source": [
    "tsne_df.head() # View data sample"
   ]
  },
  {
   "cell_type": "markdown",
   "id": "9603d863-695f-418f-a9d3-5a2777746f0f",
   "metadata": {},
   "source": [
    "Rough work"
   ]
  },
  {
   "cell_type": "code",
   "execution_count": null,
   "id": "3ad857c1-b64c-475d-852f-97add293b7c3",
   "metadata": {},
   "outputs": [],
   "source": [
    "# get image urls for all cards\n",
    "#TODO save urls so you don't ahve to re-create the list each time\n",
    "\n",
    "urls = []\n",
    "\n",
    "for card in tsne_df['card']:\n",
    "    response = requests.get('https://api.scryfall.com/cards/named?fuzzy=' + card)\n",
    "    urls.append(response.json()['image_uris']['normal'])\n",
    "    time.sleep(0.1) # avoid flooding scryfall with requests, as per their guidance"
   ]
  },
  {
   "cell_type": "code",
   "execution_count": null,
   "id": "55954093-b180-48e6-a9d4-5ca0d2f067ce",
   "metadata": {},
   "outputs": [],
   "source": [
    "tsne_df['image'] = urls"
   ]
  },
  {
   "cell_type": "code",
   "execution_count": null,
   "id": "54ca440d-6601-4412-a21c-8cd2066672e4",
   "metadata": {},
   "outputs": [],
   "source": [
    "alt.Chart(data=tsne_df).mark_point().encode(\n",
    "    x='a',\n",
    "    y='b',\n",
    "    tooltip=['image','card']\n",
    ").interactive()"
   ]
  },
  {
   "cell_type": "code",
   "execution_count": null,
   "id": "6720d862-4776-45cb-8137-a8cffa7d8f7c",
   "metadata": {},
   "outputs": [],
   "source": [
    "# plt.scatter(tsne_out.transpose()[0], tsne_out.transpose()[1])"
   ]
  },
  {
   "cell_type": "code",
   "execution_count": null,
   "id": "d3dc7a26-8ab5-4839-85a5-f524313713cd",
   "metadata": {},
   "outputs": [],
   "source": [
    "tsne_df['card'][0:5]"
   ]
  },
  {
   "cell_type": "code",
   "execution_count": 8,
   "id": "0585fb26-0b35-4d85-92cc-a3593bc1aad7",
   "metadata": {},
   "outputs": [],
   "source": [
    "test = scry(tsne_df['card'][0:5])"
   ]
  },
  {
   "cell_type": "code",
   "execution_count": 10,
   "id": "9c3e1a07-4ef3-4a9c-a82e-e04cb3e61c0c",
   "metadata": {},
   "outputs": [
    {
     "data": {
      "text/plain": [
       "[<Response [200]>,\n",
       " <Response [200]>,\n",
       " <Response [200]>,\n",
       " <Response [200]>,\n",
       " <Response [200]>]"
      ]
     },
     "execution_count": 10,
     "metadata": {},
     "output_type": "execute_result"
    }
   ],
   "source": [
    "test"
   ]
  },
  {
   "cell_type": "code",
   "execution_count": null,
   "id": "91411bb9-cb3a-4113-ac53-bd5e3e02ce25",
   "metadata": {},
   "outputs": [],
   "source": []
  }
 ],
 "metadata": {
  "kernelspec": {
   "display_name": "Python (card2vec)",
   "language": "python",
   "name": "card2vec"
  },
  "language_info": {
   "codemirror_mode": {
    "name": "ipython",
    "version": 3
   },
   "file_extension": ".py",
   "mimetype": "text/x-python",
   "name": "python",
   "nbconvert_exporter": "python",
   "pygments_lexer": "ipython3",
   "version": "3.9.12"
  }
 },
 "nbformat": 4,
 "nbformat_minor": 5
}
