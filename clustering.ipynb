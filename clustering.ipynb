{
 "cells": [
  {
   "cell_type": "markdown",
   "id": "ed098dc1-6edb-48ed-91a9-9dff26267b18",
   "metadata": {},
   "source": [
    "# Clustering\n",
    "\n",
    "**This workbook conducts a clustering analysis on a specified set of card-vectors**"
   ]
  },
  {
   "cell_type": "code",
   "execution_count": null,
   "id": "03ab0e46-c423-4f98-b087-8b9450425ef0",
   "metadata": {},
   "outputs": [],
   "source": [
    "set_abbreviation = 'one'"
   ]
  },
  {
   "cell_type": "code",
   "execution_count": null,
   "id": "45e54d2a-7738-4485-bedc-00a1a7820253",
   "metadata": {},
   "outputs": [],
   "source": [
    "from sklearn.manifold import TSNE\n",
    "from gensim.models import Word2Vec, KeyedVectors\n",
    "import altair as alt\n",
    "import pandas as pd\n",
    "import SetTools\n",
    "import json\n",
    "import os"
   ]
  },
  {
   "cell_type": "markdown",
   "id": "1d0bbc24-ee89-4b2e-82fa-75c1c9a4e1ca",
   "metadata": {},
   "source": [
    "### Load the model containing the card vectors of interest"
   ]
  },
  {
   "cell_type": "code",
   "execution_count": null,
   "id": "9c0dd2e4-70a6-4eea-b2f0-2c2470c6ec1f",
   "metadata": {},
   "outputs": [],
   "source": [
    "model_name = 'ONE.model'"
   ]
  },
  {
   "cell_type": "code",
   "execution_count": null,
   "id": "19149d8f-2084-4f24-8cfe-30a7df606464",
   "metadata": {},
   "outputs": [],
   "source": [
    "cur_dir = os.getcwd()\n",
    "model_path =  f'{cur_dir}/models/{set_abbreviation}/{model_name}'\n",
    "model = Word2Vec.load(model_path)"
   ]
  },
  {
   "cell_type": "code",
   "execution_count": null,
   "id": "232b0e19-6cb9-4165-ba22-bbcd813419b0",
   "metadata": {},
   "outputs": [],
   "source": [
    "# we only want the KeyedVector of card-embeddings, so we can discard the rest of the model\n",
    "card_vectors_keyed = model.wv\n",
    "del(model)\n",
    "\n",
    "#get the card vectors themselves by index (card name)\n",
    "card_vectors = card_vectors_keyed[card_vectors_keyed.index_to_key]"
   ]
  },
  {
   "cell_type": "markdown",
   "id": "5a2dc121-cfc6-4692-90c2-6ee5b830ba23",
   "metadata": {},
   "source": [
    "### Load card metadata from Scryfall api"
   ]
  },
  {
   "cell_type": "code",
   "execution_count": null,
   "id": "660d123f-a1bf-49e5-a54f-dd4da4e0cfa3",
   "metadata": {},
   "outputs": [],
   "source": [
    "cards = SetTools.scryfall_card_details(set_abbreviation)"
   ]
  },
  {
   "cell_type": "code",
   "execution_count": null,
   "id": "6832fe36-543b-48ab-b7fb-7e635b44906d",
   "metadata": {},
   "outputs": [],
   "source": [
    "scry_dir = os.getcwd() + '/scryfall/' + set_abbreviation\n",
    "\n",
    "# Create the local directory if it doesn't exist\n",
    "if not os.path.exists(scry_dir): os.makedirs(scry_dir)\n",
    "\n",
    "with open(f'{scry_dir}/{set_abbreviation}.json', 'w') as f:\n",
    "    json.dump(cards, f)"
   ]
  },
  {
   "cell_type": "code",
   "execution_count": null,
   "id": "34bfccb7-aad7-443d-a158-38bffd4786a5",
   "metadata": {},
   "outputs": [],
   "source": [
    "cards_df = pd.DataFrame(cards).transpose()\n",
    "cards_df.rename(columns={'url':'image'}, inplace=True)"
   ]
  },
  {
   "cell_type": "markdown",
   "id": "55e29327-f68d-4195-aa35-8fa127945a82",
   "metadata": {},
   "source": [
    "### Calculate t-SNE outputs"
   ]
  },
  {
   "cell_type": "code",
   "execution_count": null,
   "id": "9049aa21-fbc6-4cde-903a-9204d8a7aa1e",
   "metadata": {},
   "outputs": [],
   "source": [
    "#Instantiate t-SNE model and run it on card_vectors\n",
    "tsne_model = TSNE(n_components=2)\n",
    "tsne_out = tsne_model.fit_transform(card_vectors)"
   ]
  },
  {
   "cell_type": "code",
   "execution_count": null,
   "id": "676039f9-47b3-4ec3-9165-0f8fb2afdad6",
   "metadata": {},
   "outputs": [],
   "source": [
    "# Create a DataFrame from t-SNE outputs and join with our card metadata\n",
    "tsne_df = pd.DataFrame(tsne_out, index=card_vectors_keyed.index_to_key, columns = ['tsne_1','tsne_2']) # arbitrary names for t-SNE components\n",
    "tsne_df['card'] = card_vectors_keyed.index_to_key\n",
    "\n",
    "cards_df = cards_df.merge(right=tsne_df, how='inner', left_index=True, right_index=True)"
   ]
  },
  {
   "cell_type": "markdown",
   "id": "7e3d0b1a-85a0-441d-8597-f4da89c023e8",
   "metadata": {
    "tags": []
   },
   "source": [
    "### Visualize t-SNE clusters\n",
    "We see that cards are primarily clustered by colour"
   ]
  },
  {
   "cell_type": "code",
   "execution_count": null,
   "id": "56509b57-c7d8-4720-8366-49c11f58d613",
   "metadata": {
    "tags": []
   },
   "outputs": [],
   "source": [
    "alt.Chart(data=cards_df).mark_point().encode(\n",
    "    x='tsne_1',\n",
    "    y='tsne_2',\n",
    "    tooltip=['image']\n",
    ").interactive()"
   ]
  },
  {
   "cell_type": "markdown",
   "id": "f83dcd7b-f731-473d-9b78-01a4b871084d",
   "metadata": {},
   "source": [
    "## Rough Work"
   ]
  },
  {
   "cell_type": "code",
   "execution_count": null,
   "id": "96509990-1c0c-48da-9dfa-2813a12e3bba",
   "metadata": {},
   "outputs": [],
   "source": [
    "# example operations\n",
    "# model.wv.most_similar('Black Market Tycoon', topn=5)\n",
    "# vect = model.wv['Call In a Professional'] - model.wv['Mountain'] + model.wv['Swamp']\n",
    "# model.wv.similar_by_vector(vect)"
   ]
  },
  {
   "cell_type": "markdown",
   "id": "2be3c060-af1a-4a55-b157-4e464aa8c5f4",
   "metadata": {},
   "source": [
    "### What do clusters look like if we subtract basic land embeddings from mono-colour cards?"
   ]
  },
  {
   "cell_type": "code",
   "execution_count": null,
   "id": "81da21f3-3c77-4d38-a051-ab0cdd8f5f06",
   "metadata": {},
   "outputs": [],
   "source": [
    "cards_df.filter(regex=(\"type\"))"
   ]
  },
  {
   "cell_type": "code",
   "execution_count": null,
   "id": "dc4c6965-47d0-4e71-8baf-bb4d54da9376",
   "metadata": {
    "tags": []
   },
   "outputs": [],
   "source": [
    "embeddings_df = pd.DataFrame(card_vectors, index=card_vectors_keyed.index_to_key)"
   ]
  },
  {
   "cell_type": "code",
   "execution_count": null,
   "id": "9367ee76-deee-40d7-9b31-fe25715c2bcc",
   "metadata": {},
   "outputs": [],
   "source": [
    "lands = cards_df['type_line'].str.contains('Land| land')"
   ]
  },
  {
   "cell_type": "code",
   "execution_count": null,
   "id": "d3636d10-0755-4170-bd0a-1a31c7f569a7",
   "metadata": {
    "tags": []
   },
   "outputs": [],
   "source": [
    "cards_df[lands]['color_identity']"
   ]
  },
  {
   "cell_type": "code",
   "execution_count": null,
   "id": "3e6fb9a2-466d-4907-b22a-e3bf7e0dac2c",
   "metadata": {
    "tags": []
   },
   "outputs": [],
   "source": [
    "cards_df[lands]['type_line']"
   ]
  },
  {
   "cell_type": "code",
   "execution_count": null,
   "id": "5a202cba-4fa5-443c-aa93-c51645972025",
   "metadata": {},
   "outputs": [],
   "source": [
    "no_colour = embeddings_df.copy()"
   ]
  },
  {
   "cell_type": "code",
   "execution_count": null,
   "id": "44b63c11-ec8a-4e1f-b5f0-ffe8a61768f7",
   "metadata": {},
   "outputs": [],
   "source": [
    "cards_df.loc['Cemetery Tampering']['color_identity']"
   ]
  },
  {
   "cell_type": "markdown",
   "id": "bb797c7c-4259-43da-82df-92b86bb71f0a",
   "metadata": {},
   "source": [
    "### Steps:\n",
    "* find nearest land to each card\n",
    "    * create lands_df which is filtered cards_df to just lands\n",
    "    * create dataframe with 1 row for each card, in which for each card name in embeddings, it contains the land vector to subtract\n",
    "    * subtract\n",
    "    * but for colorless cards, replace original vector\n",
    "* t-SNE and plot\n",
    "* filter to mono-colour cards and test again\n",
    "    * could make color_identity into dummies to simplify"
   ]
  },
  {
   "cell_type": "code",
   "execution_count": null,
   "id": "b1bbfa85-f9fc-47e7-b4b9-b052e40890e6",
   "metadata": {},
   "outputs": [],
   "source": [
    "lands_df = cards_df[cards_df['type_line'].str.contains('Land| land')].copy()"
   ]
  },
  {
   "cell_type": "code",
   "execution_count": null,
   "id": "45431800-b27b-4829-9573-779c5f8f54e5",
   "metadata": {},
   "outputs": [],
   "source": [
    "card_vectors_keyed[lands].shape"
   ]
  },
  {
   "cell_type": "code",
   "execution_count": null,
   "id": "a311aac1-4862-4b73-8dce-7549fcb7f103",
   "metadata": {},
   "outputs": [],
   "source": [
    "KeyedVectors()"
   ]
  },
  {
   "cell_type": "code",
   "execution_count": null,
   "id": "5f2ed226-043a-49e8-a0a7-25eefc52b9cd",
   "metadata": {
    "tags": []
   },
   "outputs": [],
   "source": [
    "embeddings_df[lands]"
   ]
  },
  {
   "cell_type": "code",
   "execution_count": null,
   "id": "1f87690f-9462-4532-ba52-064a0ff8737e",
   "metadata": {},
   "outputs": [],
   "source": [
    "embeddings_df[lands_df]"
   ]
  },
  {
   "cell_type": "code",
   "execution_count": null,
   "id": "49e4cff0-08b0-45f3-bcfd-8a6f1348d54f",
   "metadata": {},
   "outputs": [],
   "source": [
    "for row in embeddings_df:\n",
    "    "
   ]
  }
 ],
 "metadata": {
  "kernelspec": {
   "display_name": "Python [conda env:card2vec]",
   "language": "python",
   "name": "conda-env-card2vec-py"
  },
  "language_info": {
   "codemirror_mode": {
    "name": "ipython",
    "version": 3
   },
   "file_extension": ".py",
   "mimetype": "text/x-python",
   "name": "python",
   "nbconvert_exporter": "python",
   "pygments_lexer": "ipython3",
   "version": "3.10.9"
  }
 },
 "nbformat": 4,
 "nbformat_minor": 5
}
