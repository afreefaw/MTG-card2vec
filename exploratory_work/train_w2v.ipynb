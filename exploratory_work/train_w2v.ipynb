{
 "cells": [
  {
   "cell_type": "code",
   "execution_count": 1,
   "id": "74a27a59-897c-463a-a51f-2baa1c5494a4",
   "metadata": {},
   "outputs": [],
   "source": [
    "import gensim"
   ]
  },
  {
   "cell_type": "code",
   "execution_count": 2,
   "id": "c907d719-7b93-449f-8304-f38717990ceb",
   "metadata": {},
   "outputs": [],
   "source": [
    "from gensim.models import Word2Vec"
   ]
  },
  {
   "cell_type": "code",
   "execution_count": null,
   "id": "2f2e6871-e00c-47c5-b4d7-c250f59f9024",
   "metadata": {},
   "outputs": [],
   "source": [
    "# load decks for use in Word2Vec\n",
    "# model expects iterable of iterables (in our case list of decks, each deck represented as a list of strings)\n",
    "\n",
    "#TODO - pass real arg to specify data\n",
    "deck_corpus = DeckCorpus(data=\"\")\n",
    "\n",
    "#specify vocab size (number of cards in set)\n",
    "unique_cards = 255 #TODO make this real / dynamically determined\n",
    "window_size = 40\n",
    "epochs = 1\n",
    "skipgram = 1 #suspect skipgram more appropriate than CBOW, will test"
   ]
  },
  {
   "cell_type": "code",
   "execution_count": null,
   "id": "fa0bdcf4-4912-4157-b69f-431410f81bd0",
   "metadata": {},
   "outputs": [],
   "source": [
    "model = Word2Vec(sentences = deck_corpus,\n",
    "                 vector_size=unique_cards,\n",
    "                 window = window_size,\n",
    "                 workers = 8,\n",
    "                 epochs = epochs,\n",
    "                 sg = skipgram)"
   ]
  },
  {
   "cell_type": "code",
   "execution_count": null,
   "id": "94878517-c5a3-46fa-86a8-00ea9a6738ca",
   "metadata": {},
   "outputs": [],
   "source": [
    "model.save(\"card2vec.model\")"
   ]
  }
 ],
 "metadata": {
  "kernelspec": {
   "display_name": "Python 3 (ipykernel)",
   "language": "python",
   "name": "python3"
  },
  "language_info": {
   "codemirror_mode": {
    "name": "ipython",
    "version": 3
   },
   "file_extension": ".py",
   "mimetype": "text/x-python",
   "name": "python",
   "nbconvert_exporter": "python",
   "pygments_lexer": "ipython3",
   "version": "3.9.12"
  }
 },
 "nbformat": 4,
 "nbformat_minor": 5
}
