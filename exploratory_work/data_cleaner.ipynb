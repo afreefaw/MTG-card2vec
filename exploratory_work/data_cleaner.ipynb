{
 "cells": [
  {
   "cell_type": "code",
   "execution_count": 1,
   "id": "e9a64c18-1f5e-42a2-b1a9-d17db44f6056",
   "metadata": {},
   "outputs": [],
   "source": [
    "import pandas as pd\n",
    "import numpy as np"
   ]
  },
  {
   "cell_type": "code",
   "execution_count": 2,
   "id": "833bbec9-efad-49c6-952c-5678c81942ab",
   "metadata": {},
   "outputs": [],
   "source": [
    "#TODO - dynamic folder path\n",
    "path = 'C:/Users/Ariel/Documents/Coding/repos/MTG_card2vec/data/draft/'\n",
    "game_path = path +'game_data_public.SNC.PremierDraft.csv'"
   ]
  },
  {
   "cell_type": "code",
   "execution_count": 3,
   "id": "5a377f89-a4c8-4bda-8156-bcbbf3075a77",
   "metadata": {},
   "outputs": [],
   "source": [
    "game_data_sample = pd.read_csv(game_path,nrows=100) #read in sample file to get columns\n",
    "drop_cols = game_data_sample.columns.drop(list(game_data_sample.filter(regex='drawn_|opening_hand_')))\n",
    "\n",
    "# card count columns can be int 8. 3.7GB with int64, ~900mb with int8\n",
    "int8_cols = list(game_data_sample.filter(regex='deck_|sideboard_'))\n",
    "data_types = {}\n",
    "for x in int8_cols:\n",
    "    data_types[x] = 'int8'\n",
    "\n",
    "#read filtered game_data in chunks\n",
    "gen = pd.read_csv(game_path, chunksize = 100000, dtype = data_types)"
   ]
  },
  {
   "cell_type": "code",
   "execution_count": 4,
   "id": "79c0f1b5-1751-4a36-9923-0adba9a661ac",
   "metadata": {},
   "outputs": [
    {
     "name": "stdout",
     "output_type": "stream",
     "text": [
      "<class 'pandas.core.frame.DataFrame'>\n",
      "RangeIndex: 812978 entries, 0 to 812977\n",
      "Columns: 551 entries, expansion to user_game_win_rate_bucket\n",
      "dtypes: bool(2), float64(1), int64(7), int8(532), object(9)\n",
      "memory usage: 921.8 MB\n"
     ]
    }
   ],
   "source": [
    "#----Game data starts here----\n",
    "#get list of columns we want to keep, by excluding columns we don't want:\n",
    "game_data_sample = pd.read_csv(game_path,nrows=100) #read in sample file to get columns\n",
    "drop_cols = game_data_sample.columns.drop(list(game_data_sample.filter(regex='drawn_|opening_hand_')))\n",
    "\n",
    "# card count columns can be int 8. 3.7GB with int64, ~900mb with int8\n",
    "int8_cols = list(game_data_sample.filter(regex='deck_|sideboard_'))\n",
    "data_types = {}\n",
    "for x in int8_cols:\n",
    "    data_types[x] = 'int8'\n",
    "\n",
    "#read filtered game_data in chunks\n",
    "gen = pd.read_csv(game_path, chunksize = 100000, dtype = data_types)\n",
    "game_data = pd.concat((x[drop_cols] for x in gen), ignore_index=True)\n",
    "\n",
    "game_data.info(verbose=False, memory_usage=\"deep\") #show memory usage"
   ]
  },
  {
   "cell_type": "code",
   "execution_count": 5,
   "id": "7e17ee0c-384c-40a2-9a3b-c3dc02c28abf",
   "metadata": {
    "tags": []
   },
   "outputs": [],
   "source": [
    "#Use the draft_id as the index\n",
    "game_data.set_index('draft_id', drop = True, inplace = True)"
   ]
  },
  {
   "cell_type": "code",
   "execution_count": 6,
   "id": "cb5935ee-c5d3-4791-b39c-3c9e342b28ff",
   "metadata": {},
   "outputs": [],
   "source": [
    "#add column for number of games per match based on premier draft vs traditional (i.e., traditional is Best of 3)\n",
    "game_data['games_per_match'] = game_data['event_type'].apply(lambda x: 1 if x == 'PremierDraft' else 3)"
   ]
  },
  {
   "cell_type": "code",
   "execution_count": 7,
   "id": "92723eb8-141a-4216-9de3-f6791e684ae1",
   "metadata": {},
   "outputs": [],
   "source": [
    "#To find who won each match, first find # of games won in each match\n",
    "wins_in_match = game_data.groupby(['draft_id','match_number'])['won'].sum()\n",
    "wins_in_match.name = 'wins_in_match'"
   ]
  },
  {
   "cell_type": "code",
   "execution_count": 8,
   "id": "2af90908-433d-4cb2-a024-6739295d1d00",
   "metadata": {},
   "outputs": [],
   "source": [
    "#create column for number of game wins in match\n",
    "game_data = game_data.join(wins_in_match, on = ['draft_id','match_number']).copy()\n",
    "#create column for whether they won the match\n",
    "game_data['won_match'] = game_data['wins_in_match'] > ( game_data['games_per_match'] / 2)"
   ]
  },
  {
   "cell_type": "code",
   "execution_count": 9,
   "id": "5bf5c645-a414-410d-ad21-65dfdc0136af",
   "metadata": {},
   "outputs": [],
   "source": [
    "# Find number of matches, match wins, losses for each draft ...\n",
    "\n",
    "# num_matches = game_data.groupby('draft_id')['rank'].count().copy()\n",
    "# num_matches.name = 'num_matches'\n",
    "\n",
    "num_matches = game_data.groupby('draft_id')['match_number'].max()\n",
    "num_matches.name = 'num_matches'\n",
    "match_wins = game_data.groupby('draft_id')['won_match'].sum()\n",
    "match_wins.name = 'match_wins'\n",
    "match_losses = num_matches - match_wins\n",
    "match_losses.name = 'match_losses'"
   ]
  },
  {
   "cell_type": "code",
   "execution_count": 10,
   "id": "84c30e72-2841-4e5b-972a-d27bb45df018",
   "metadata": {},
   "outputs": [],
   "source": [
    "# ... and add them as columns to game_data\n",
    "game_data = game_data.join(num_matches, how='left').copy()\n",
    "game_data = game_data.join(match_wins, how='left').copy()\n",
    "game_data = game_data.join(match_losses, how='left').copy()"
   ]
  },
  {
   "cell_type": "code",
   "execution_count": 11,
   "id": "be16c46b-f346-4aad-bade-fcbe6cb3cf68",
   "metadata": {},
   "outputs": [],
   "source": [
    "#-------Data validation-------------\n",
    "\n",
    "#Validate number of cards in deck and add 'deck_size' column\n",
    "deck_cols = list(game_data.filter(regex='deck_'))\n",
    "basic_land_cols = ['deck_Island','deck_Swamp','deck_Forest','deck_Plains','deck_Mountain']\n",
    "# game_data['deck_size'] = game_data[deck_cols].sum(axis=1)\n",
    "# num_cards_series = pd.Series(game_data[deck_cols].sum(axis=1))\n",
    "game_data.loc[:,'num_cards'] = pd.Series(game_data[deck_cols].sum(axis=1))\n",
    "game_data.loc[:,'num_basic_lands'] = pd.Series(game_data[basic_land_cols].sum(axis=1))\n",
    "if min(game_data['num_cards']) < 40:\n",
    "    raise ValueError('Found deck with less than 40 cards')"
   ]
  },
  {
   "cell_type": "code",
   "execution_count": 12,
   "id": "82e35218-97df-4bb6-92dd-7ea76570527b",
   "metadata": {},
   "outputs": [],
   "source": [
    "#We want to get 1 row per draft_id, and we want to use only the first game of the final match in each draft.\n",
    "# (This is because by the final match they may have optimally adjusted their main deck vs sideboard,\n",
    "# but won't be strategically adjusting their deck to react to their opponent as they may in game 2 or 3 in a match)\n",
    "\n",
    "#Drop all games that are not the first game of the match\n",
    "game_data = game_data[game_data['game_number'] == 1].copy()"
   ]
  },
  {
   "cell_type": "code",
   "execution_count": 13,
   "id": "0577a0a3-ea11-4638-8f38-4f3b416b3a00",
   "metadata": {},
   "outputs": [],
   "source": [
    "#filter to final matches only\n",
    "game_data = game_data[game_data['match_number'] == game_data['num_matches']]"
   ]
  },
  {
   "cell_type": "code",
   "execution_count": 14,
   "id": "bfb8f04b-c9e1-4344-80cd-43b070f046cd",
   "metadata": {},
   "outputs": [],
   "source": [
    "#drop suspicious drafts (More than 9 matches) There were only ~7 of these in the SNC premier draft set\n",
    "game_data = game_data.drop(game_data[game_data['num_matches'] > 9].index).copy()"
   ]
  },
  {
   "cell_type": "code",
   "execution_count": 15,
   "id": "dcc62378-e109-4579-9838-e4a349de83de",
   "metadata": {},
   "outputs": [
    {
     "name": "stdout",
     "output_type": "stream",
     "text": [
      "12026\n"
     ]
    }
   ],
   "source": [
    "#identify incomplete drafts\n",
    "inc_drafts = game_data[(game_data['match_losses'] < 3) * (game_data['match_wins'] < 7 )].copy()\n",
    "\n",
    "#Number of incomplete drafts\n",
    "print(len(inc_drafts))\n",
    "\n",
    "#drop them\n",
    "game_data.drop(inc_drafts.index, inplace = True)"
   ]
  },
  {
   "cell_type": "code",
   "execution_count": 16,
   "id": "30e9809d-50e2-4e57-9348-58ffe341d96a",
   "metadata": {},
   "outputs": [],
   "source": [
    "#Create pool_ columns which show all the cards drafted (sum of deck and sideboard)\n",
    "\n",
    "deck_cols = list(game_data.filter(regex='deck_'))\n",
    "sideboard_cols = list(game_data.filter(regex='sideboard_'))\n",
    "assert(len(deck_cols) == len(sideboard_cols))\n",
    "\n",
    "pool_col_names = [x.replace('deck_', 'pool_') for x in deck_cols]"
   ]
  },
  {
   "cell_type": "code",
   "execution_count": 17,
   "id": "c9775f24-5455-4273-9a02-e2b8f0788c20",
   "metadata": {},
   "outputs": [],
   "source": [
    "pool_data = pd.DataFrame(\n",
    "    game_data.loc[:,deck_cols].to_numpy() + game_data.loc[:,sideboard_cols].to_numpy(),\n",
    "    index = game_data.index,\n",
    "    columns = pool_col_names\n",
    ")"
   ]
  },
  {
   "cell_type": "code",
   "execution_count": 18,
   "id": "09dd8022-91bc-458a-a133-e838be7ad614",
   "metadata": {},
   "outputs": [],
   "source": [
    "game_data = game_data.join(pool_data, how='left')\n",
    "\n",
    "#confirm (using island as a test) that after manipulation, each draft deck pool = deck + sideboard\n",
    "assert(all(game_data['pool_Island'] == game_data['deck_Island'] + game_data['sideboard_Island']))\n",
    "\n",
    "#but zero the land columns - we don't consider those as part of the pool\n",
    "for col in ['pool_Island','pool_Mountain','pool_Swamp','pool_Plains','pool_Forest']:\n",
    "    game_data.loc[:][col].values[:] = 0"
   ]
  },
  {
   "cell_type": "code",
   "execution_count": 19,
   "id": "074c6fbd-ff7c-4230-a4ca-18018d94ce54",
   "metadata": {},
   "outputs": [
    {
     "name": "stdout",
     "output_type": "stream",
     "text": [
      "<class 'pandas.core.frame.DataFrame'>\n",
      "Index: 126955 entries, 0000057081cf48a5b8c0b21ea95997aa to fffffb56ac1e42c0b325860738f2ad8d\n",
      "Columns: 824 entries, expansion to pool_Ziatora, the Incinerator\n",
      "dtypes: bool(3), float64(1), int64(14), int8(798), object(8)\n",
      "memory usage: 187.2 MB\n"
     ]
    }
   ],
   "source": [
    "game_data.info(verbose=False, memory_usage='deep')"
   ]
  },
  {
   "cell_type": "code",
   "execution_count": 20,
   "id": "b1b36a6a-07cf-42cb-98e7-1d8fc800c0f0",
   "metadata": {},
   "outputs": [],
   "source": [
    "#Save to CSV\n",
    "game_data.to_csv(path + 'output_data.csv')"
   ]
  },
  {
   "cell_type": "code",
   "execution_count": null,
   "id": "98fcba9a-7e56-473e-bfe2-3d9b93dfd4c3",
   "metadata": {},
   "outputs": [],
   "source": []
  }
 ],
 "metadata": {
  "kernelspec": {
   "display_name": "Python 3 (ipykernel)",
   "language": "python",
   "name": "python3"
  },
  "language_info": {
   "codemirror_mode": {
    "name": "ipython",
    "version": 3
   },
   "file_extension": ".py",
   "mimetype": "text/x-python",
   "name": "python",
   "nbconvert_exporter": "python",
   "pygments_lexer": "ipython3",
   "version": "3.9.12"
  }
 },
 "nbformat": 4,
 "nbformat_minor": 5
}
