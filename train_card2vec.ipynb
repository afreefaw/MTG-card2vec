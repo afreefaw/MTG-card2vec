{
 "cells": [
  {
   "cell_type": "markdown",
   "id": "cb95b6a8-3e91-4b24-895e-9957f49f8cf7",
   "metadata": {},
   "source": [
    "# train_card2vec\n",
    "\n",
    "This notebook covers the full card2vec workflow for creation of card embeddings including:\n",
    "* Data download\n",
    "* Preprocessing\n",
    "* Model training (creating embeddings)\n",
    "\n",
    "**Before you begin:**\n",
    "1. Clone this repo.\n",
    "2. specify the set you want to work with in the cell below. (Data will be auto downloaded)"
   ]
  },
  {
   "cell_type": "code",
   "execution_count": null,
   "id": "736315e7-2866-4053-a007-5664679c336b",
   "metadata": {},
   "outputs": [],
   "source": [
    "set_abbreviation = 'ONE' # 3 letter abbreviate for the set to work with."
   ]
  },
  {
   "cell_type": "code",
   "execution_count": null,
   "id": "5685f2a0-9fa2-4d31-920d-1a06dc0d6021",
   "metadata": {},
   "outputs": [],
   "source": [
    "from gensim.models import Word2Vec\n",
    "from gensim.models.callbacks import CallbackAny2Vec\n",
    "import pandas as pd\n",
    "from DeckCorpus import DeckCorpus\n",
    "from LossCallback import LossCallback\n",
    "import SetTools\n",
    "import os"
   ]
  },
  {
   "cell_type": "code",
   "execution_count": null,
   "id": "30c1bdb5-9d91-4b97-b04c-ed2258792060",
   "metadata": {},
   "outputs": [],
   "source": [
    "# import requests\n",
    "# response = requests.get(\"https://api.scryfall.com/cards/search/?q=e=\" + set_abbreviation)\n",
    "# response_json = response.json()"
   ]
  },
  {
   "cell_type": "code",
   "execution_count": null,
   "id": "b623731f-2583-4215-92bb-d4f1d1abe6e1",
   "metadata": {
    "tags": []
   },
   "outputs": [],
   "source": [
    "# import json\n",
    "# response_json"
   ]
  },
  {
   "cell_type": "code",
   "execution_count": null,
   "id": "2ef8b4ec-d54b-499f-a2e3-ab0023f763e2",
   "metadata": {},
   "outputs": [],
   "source": [
    "# with open('one.json', 'w') as f:\n",
    "#     json.dump(response_json, f)"
   ]
  },
  {
   "cell_type": "code",
   "execution_count": null,
   "id": "ed38245d-9282-4ea3-97f7-af03e93b03b1",
   "metadata": {},
   "outputs": [],
   "source": [
    "# Please be kind to 17lands servers and don't overuse this. Will skip download if finds existing .gz files\n",
    "SetTools.download_game_data(set_abbreviation)\n",
    "SetTools.gz_to_parquet(set_abbreviation) # convert gzipped csv to parquet"
   ]
  },
  {
   "cell_type": "code",
   "execution_count": null,
   "id": "f63853ef-2edf-43a6-904a-e6cb1a55641e",
   "metadata": {
    "tags": []
   },
   "outputs": [],
   "source": [
    "df = SetTools.card2vec_preprocess(SetTools.parquet_path(set_abbreviation))"
   ]
  },
  {
   "cell_type": "markdown",
   "id": "0c21a0ef-282a-40e6-aaec-feeb7942d1ad",
   "metadata": {
    "tags": []
   },
   "source": [
    "## Model Training (Creating Card Embeddings)\n",
    "This relies on DeckCorpus, which is a generator that processes decks into word2vec compatible form before passing them to the model.\n",
    "* (converts from rows of integer card counts into lists of card names (strings). e.g., output decks will be in the format:\n",
    "    - [\"Mountain, \"Mountain\", \"Shock\", ... ]"
   ]
  },
  {
   "cell_type": "code",
   "execution_count": null,
   "id": "2f2e6871-e00c-47c5-b4d7-c250f59f9024",
   "metadata": {},
   "outputs": [],
   "source": [
    "# hyperparameters\n",
    "epochs = 5\n",
    "window_size = 40 # skipgram / CBOW window size\n",
    "vector_size = 256 # size of resulting card embeddings\n",
    "skipgram = 1 # uses CBOW if 0\n",
    "\n",
    "# Corpus (generator that yields decks)\n",
    "deck_corpus = DeckCorpus(data=df, shuffle=True)\n",
    "\n",
    "model = Word2Vec(sentences = deck_corpus,\n",
    "                 vector_size = vector_size,\n",
    "                 window = window_size,\n",
    "                 sg = skipgram,\n",
    "                 callbacks = [LossCallback('loss.log')], #Note that this is a gensim way of reporting training loss\n",
    "                 compute_loss = True,\n",
    "                 epochs = epochs,\n",
    "                )"
   ]
  },
  {
   "cell_type": "code",
   "execution_count": null,
   "id": "ce1e9703-fcea-4508-baae-817b3314c674",
   "metadata": {},
   "outputs": [],
   "source": [
    "#save embeddings as csv\n",
    "embed_dir = os.getcwd() + '/embeddings/' + set_abbreviation\n",
    "\n",
    "# Create the local directory if it doesn't exist\n",
    "if not os.path.exists(embed_dir): os.makedirs(embed_dir)\n",
    "\n",
    "pd.DataFrame(model.wv[model.wv.index_to_key], index=model.wv.index_to_key).to_csv(f'{embed_dir}/{set_abbreviation}_embeddings.csv')\n",
    "model.wv.save_word2vec_format(f'{embed_dir}/embed_gensim.txt')"
   ]
  },
  {
   "cell_type": "code",
   "execution_count": null,
   "id": "412c1497-7822-4252-a8bc-6c3d5d43076c",
   "metadata": {},
   "outputs": [],
   "source": [
    "#save model\n",
    "model_dir = os.getcwd() + '/models/' + set_abbreviation\n",
    "\n",
    "# Create the local directory if it doesn't exist\n",
    "if not os.path.exists(model_dir): os.makedirs(model_dir)\n",
    "\n",
    "save_name = f'{set_abbreviation}.model'\n",
    "model.save(model_dir + '/' +save_name)"
   ]
  }
 ],
 "metadata": {
  "kernelspec": {
   "display_name": "Python [conda env:card2vec]",
   "language": "python",
   "name": "conda-env-card2vec-py"
  },
  "language_info": {
   "codemirror_mode": {
    "name": "ipython",
    "version": 3
   },
   "file_extension": ".py",
   "mimetype": "text/x-python",
   "name": "python",
   "nbconvert_exporter": "python",
   "pygments_lexer": "ipython3",
   "version": "3.10.9"
  }
 },
 "nbformat": 4,
 "nbformat_minor": 5
}
