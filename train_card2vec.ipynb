{
 "cells": [
  {
   "cell_type": "markdown",
   "id": "cb95b6a8-3e91-4b24-895e-9957f49f8cf7",
   "metadata": {},
   "source": [
    "# train_card2vec\n",
    "\n",
    "This notebook covers the full card2vec workflow for creation of card embeddings including:\n",
    "* Data download\n",
    "* Preprocessing\n",
    "* Model training (creating embeddings)\n",
    "\n",
    "**Before you begin:**\n",
    "1. Clone this repo.\n",
    "2. specify the set you want to work with in the cell below. (Data will be auto downloaded)"
   ]
  },
  {
   "cell_type": "code",
   "execution_count": null,
   "id": "736315e7-2866-4053-a007-5664679c336b",
   "metadata": {},
   "outputs": [],
   "source": [
    "set_abbreviation = 'ONE' # 3 letter abbreviate for the set to work with."
   ]
  },
  {
   "cell_type": "code",
   "execution_count": null,
   "id": "5685f2a0-9fa2-4d31-920d-1a06dc0d6021",
   "metadata": {},
   "outputs": [],
   "source": [
    "from gensim.models import Word2Vec\n",
    "from gensim.models.callbacks import CallbackAny2Vec\n",
    "import pandas as pd\n",
    "import random\n",
    "from DeckCorpus import DeckCorpus\n",
    "from LossCallback import LossCallback\n",
    "from os import getcwd\n",
    "from datetime import datetime\n",
    "import SetTools\n",
    "import polars as pl\n",
    "import os"
   ]
  },
  {
   "cell_type": "code",
   "execution_count": null,
   "id": "6f5e98ba-68ee-4633-ac28-9c9b0569a5fb",
   "metadata": {},
   "outputs": [],
   "source": [
    "file_name = 'game_data_public.' +set_abbreviation+'.PremierDraft.csv.gz'\n",
    "file_path = getcwd() + '/data/' + set_abbreviation + '/' + file_name"
   ]
  },
  {
   "cell_type": "code",
   "execution_count": null,
   "id": "ed38245d-9282-4ea3-97f7-af03e93b03b1",
   "metadata": {},
   "outputs": [],
   "source": [
    "# Please be kind to 17lands servers and don't overuse this. Will skip download if finds existing .gz files\n",
    "SetTools.download_game_data(set_abbreviation)\n",
    "SetTools.gz_to_parquet(set_abbreviation) # convert gzipped csv to parquet"
   ]
  },
  {
   "cell_type": "code",
   "execution_count": null,
   "id": "f63853ef-2edf-43a6-904a-e6cb1a55641e",
   "metadata": {
    "tags": []
   },
   "outputs": [],
   "source": [
    "df = SetTools.card2vec_preprocess(SetTools.parquet_path(set_abbreviation))"
   ]
  },
  {
   "cell_type": "markdown",
   "id": "0c21a0ef-282a-40e6-aaec-feeb7942d1ad",
   "metadata": {
    "tags": []
   },
   "source": [
    "## Model Training (Creating Card Embeddings)\n",
    "This relies on DeckCorpus, which is a generator that processes decks into word2vec compatible form before passing them to the model.\n",
    "* (converts from rows of integer card counts into lists of card names (strings). e.g., output decks will be in the format:\n",
    "    - [\"Mountain, \"Mountain\", \"Shock\", ... ]"
   ]
  },
  {
   "cell_type": "code",
   "execution_count": null,
   "id": "2f2e6871-e00c-47c5-b4d7-c250f59f9024",
   "metadata": {},
   "outputs": [],
   "source": [
    "# hyperparameters - you may want to experiment\n",
    "window_size = 40 # skipgram / CBOW window size\n",
    "vector_size = 256 # size of resulting card embeddings\n",
    "epochs = \n",
    "skipgram = 1 # uses CBOW if 0\n",
    "data_share = 1 #if you want to test on a small share of data, reduce this. e.g., 0.3 = 30% of data (not randomized) \n",
    "\n",
    "# These lines just implement the idea of the data_share variable above\n",
    "last_idx = int(len(df)*data_share)\n",
    "df_less = df.iloc[0:last_idx,:]\n",
    "\n",
    "# Corpus (generator that yields decks)\n",
    "deck_corpus = DeckCorpus(data=df_less, shuffle=True)"
   ]
  },
  {
   "cell_type": "code",
   "execution_count": null,
   "id": "fa0bdcf4-4912-4157-b69f-431410f81bd0",
   "metadata": {
    "tags": []
   },
   "outputs": [],
   "source": [
    "# This creates and trains the gensim word2vec model.\n",
    "# Will take time, so try with 1 epoch first to get a sense.\n",
    "model = Word2Vec(sentences = deck_corpus,\n",
    "                 vector_size = vector_size,\n",
    "                 window = window_size,\n",
    "                 sg = skipgram,\n",
    "                 callbacks = [LossCallback('loss.log')], #Note that this is a gensim way of reporting training loss\n",
    "                 compute_loss = True,\n",
    "                 epochs = epochs,\n",
    "                )"
   ]
  },
  {
   "cell_type": "code",
   "execution_count": null,
   "id": "ce1e9703-fcea-4508-baae-817b3314c674",
   "metadata": {},
   "outputs": [],
   "source": [
    "#save embeddings as csv\n",
    "pd.DataFrame(model.wv[model.wv.index_to_key], index=model.wv.index_to_key).to_csv(f'{set_abbreviation}_embeddings.csv')"
   ]
  },
  {
   "cell_type": "code",
   "execution_count": null,
   "id": "412c1497-7822-4252-a8bc-6c3d5d43076c",
   "metadata": {},
   "outputs": [],
   "source": [
    "#save model\n",
    "now = datetime.now()\n",
    "dt_string = now.strftime(\"%d-%m-%Y_%H-%M-%S\")\n",
    "\n",
    "save_name = 'card2vec-' + set_abbreviation + '-v' + str(vector_size) + '-e' + dt_string +'.model'\n",
    "model.save('models\\\\' + save_name)"
   ]
  },
  {
   "cell_type": "code",
   "execution_count": null,
   "id": "fc235ad2-4c21-425d-b5e0-055a575bd478",
   "metadata": {},
   "outputs": [],
   "source": [
    "model.wv.most_similar('Black Market Tycoon', topn=5)"
   ]
  },
  {
   "cell_type": "code",
   "execution_count": null,
   "id": "a0210d5c-5dc9-479d-bb1b-c2761c7d5a75",
   "metadata": {},
   "outputs": [],
   "source": [
    "vect = model.wv['Call In a Professional'] - model.wv['Mountain'] + model.wv['Swamp']"
   ]
  },
  {
   "cell_type": "code",
   "execution_count": null,
   "id": "42692ab6-b7d1-447b-b749-969e9e39e807",
   "metadata": {},
   "outputs": [],
   "source": [
    "model.wv.similar_by_vector(vect)"
   ]
  },
  {
   "cell_type": "code",
   "execution_count": null,
   "id": "774e8d53-6e76-4bda-a715-80aba5cf6022",
   "metadata": {},
   "outputs": [],
   "source": [
    "# deck_cols_dict = {deck_cols[i]:i for i in range(0,len(deck_cols))}\n",
    "# deck_cols_dict_rev = {i:deck_cols[i] for i in range(0,len(deck_cols))}"
   ]
  },
  {
   "cell_type": "code",
   "execution_count": null,
   "id": "037336a2-c45f-4f3e-8b20-a6bd6359661a",
   "metadata": {},
   "outputs": [],
   "source": [
    "vect = model.wv['Riveteers Initiate'] - model.wv['Mountain'] + model.wv['Swamp']"
   ]
  }
 ],
 "metadata": {
  "kernelspec": {
   "display_name": "Python (card2vec)",
   "language": "python",
   "name": "card2vec"
  },
  "language_info": {
   "codemirror_mode": {
    "name": "ipython",
    "version": 3
   },
   "file_extension": ".py",
   "mimetype": "text/x-python",
   "name": "python",
   "nbconvert_exporter": "python",
   "pygments_lexer": "ipython3",
   "version": "3.9.12"
  }
 },
 "nbformat": 4,
 "nbformat_minor": 5
}
