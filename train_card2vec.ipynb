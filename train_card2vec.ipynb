{
 "cells": [
  {
   "cell_type": "markdown",
   "id": "cb95b6a8-3e91-4b24-895e-9957f49f8cf7",
   "metadata": {},
   "source": [
    "# train_card2vec\n",
    "\n",
    "This notebook covers the full card2vec workflow for creation of card embeddings including:\n",
    "* Data download\n",
    "* Preprocessing\n",
    "* Model training (creating embeddings)\n",
    "\n",
    "\n",
    "## !!! BEFORE YOU BEGIN !!!\n",
    "1. Clone this repo.\n",
    "2. Download 17Lands draft game data\n",
    "    * https://www.17lands.com/public_datasets\n",
    "    * (Must be the data from the 'Game Data' column, in a 'PremierDraft' row)\n",
    "    * Extract it, e.g., with [7zip](https://www.7-zip.org/download.html)\n",
    "    * Save the csv file in your repo 'data/draft/' folder\n",
    "3. Specify the file name in the cell below (don't forget to run the cell after specifying)"
   ]
  },
  {
   "cell_type": "code",
   "execution_count": 1,
   "id": "8c0a45de-7fdc-415b-ae2e-dc1b44ba7bd2",
   "metadata": {},
   "outputs": [],
   "source": [
    "# this is just an example file name, change it to the true name of your csv file\n",
    "file_name = 'game_data_public.SNC.PremierDraft.csv'\n",
    "set_name = 'SNC' # name this whatever you want (but short), it only impacts the file name of saved models"
   ]
  },
  {
   "cell_type": "code",
   "execution_count": 8,
   "id": "5685f2a0-9fa2-4d31-920d-1a06dc0d6021",
   "metadata": {},
   "outputs": [],
   "source": [
    "from gensim.models import Word2Vec\n",
    "from gensim.models.callbacks import CallbackAny2Vec\n",
    "import pandas as pd\n",
    "import random\n",
    "from DeckCorpus import DeckCorpus\n",
    "from card2vec_preprocess import card2vec_preprocess\n",
    "from card_ints_to_list import card_ints_to_list\n",
    "from LossCallback import LossCallback\n",
    "from draft_game_cleaner import draft_game_cleaner\n",
    "from os import getcwd\n",
    "from datetime import datetime"
   ]
  },
  {
   "cell_type": "markdown",
   "id": "5404d2ab-1ae9-48ae-9525-0ac0f24a20e6",
   "metadata": {},
   "source": [
    "### Process 17Lands data\n",
    "There are 2 data cleaning / preprocessing steps\n",
    "1. Clean into multi-purpose form (could be used for other purposes, not just card2vec)"
   ]
  },
  {
   "cell_type": "code",
   "execution_count": 3,
   "id": "05b325bd-5599-4f71-8988-0ac7a7dc2cdc",
   "metadata": {},
   "outputs": [],
   "source": [
    "# This will save the cleaned output in your data folder, so no need to run more than once per 17lands data file\n",
    "# May take ~30s, maybe longer on slower machines\n",
    "file_path = getcwd() + '\\\\data\\\\draft\\\\' + file_name\n",
    "draft_game_cleaner(file_path)"
   ]
  },
  {
   "cell_type": "markdown",
   "id": "1726a259-54b9-4a40-82ba-889c8befde41",
   "metadata": {},
   "source": [
    "2. Some further trimming down of the data into only what is required for card2vec (Dataframe where each row is a deck, each column is a card, and integer values represent card counts)"
   ]
  },
  {
   "cell_type": "code",
   "execution_count": 4,
   "id": "1b6642e1-aa2e-4f3e-bf54-3895c9c8004e",
   "metadata": {},
   "outputs": [
    {
     "name": "stdout",
     "output_type": "stream",
     "text": [
      "Dropping  462  duplicate decks\n",
      "126493  unique decks remain.\n"
     ]
    }
   ],
   "source": [
    "# load decks for use in Word2Vec\n",
    "# cleaned file will have 'CLEANED_' prefix\n",
    "clean_path = file_path.replace(file_name,'CLEANED_' + file_name) \n",
    "\n",
    "df = card2vec_preprocess(clean_path)\n",
    "unique_cards = len(df.columns)"
   ]
  },
  {
   "cell_type": "markdown",
   "id": "0c21a0ef-282a-40e6-aaec-feeb7942d1ad",
   "metadata": {
    "tags": []
   },
   "source": [
    "## Model Training (Creating Card Embeddings)\n",
    "This relies on DeckCorpus, which is a generator that processes decks into word2vec compatible form before passing them to the model.\n",
    "* (converts from rows of integer card counts into lists of card names (strings). e.g., output decks will be in the format:\n",
    "    - [\"Mountain, \"Mountain\", \"Shock\", ... ]"
   ]
  },
  {
   "cell_type": "code",
   "execution_count": 6,
   "id": "2f2e6871-e00c-47c5-b4d7-c250f59f9024",
   "metadata": {},
   "outputs": [],
   "source": [
    "# hyperparameters - you may want to experiment\n",
    "window_size = 40 # skipgram / CBOW window size\n",
    "vector_size = 100 # size of resulting card embeddings\n",
    "epochs = 5\n",
    "skipgram = 1 # uses CBOW if 0\n",
    "data_share = 1 #if you want to test on a small share of data, reduce this. e.g., 0.3 = 30% of data (not randomized) \n",
    "\n",
    "# These lines just implement the idea of the data_share variable above\n",
    "last_idx = int(len(df)*data_share)\n",
    "df_less = df.iloc[0:last_idx,:]\n",
    "\n",
    "# Corpus (generator that yields decks)\n",
    "deck_corpus = DeckCorpus(data=df_less, shuffle=True)"
   ]
  },
  {
   "cell_type": "code",
   "execution_count": 7,
   "id": "fa0bdcf4-4912-4157-b69f-431410f81bd0",
   "metadata": {
    "tags": []
   },
   "outputs": [
    {
     "name": "stdout",
     "output_type": "stream",
     "text": [
      "Loss after epoch 0: 26947114.0\n",
      "Loss after epoch 1: 14490494.0\n",
      "Loss after epoch 2: 10625660.0\n",
      "Loss after epoch 3: 10687884.0\n",
      "Loss after epoch 4: 4600136.0\n"
     ]
    }
   ],
   "source": [
    "# This creates and trains the gensim word2vec model.\n",
    "# Will take time, so try with 1 epoch first to get a sense.\n",
    "model = Word2Vec(sentences = deck_corpus,\n",
    "                 vector_size = vector_size,\n",
    "                 window = window_size,\n",
    "                 sg = skipgram,\n",
    "                 callbacks = [LossCallback()], #Note that this is a gensim way of reporting training loss\n",
    "                 compute_loss = True,\n",
    "                 epochs = epochs,\n",
    "                )"
   ]
  },
  {
   "cell_type": "markdown",
   "id": "ffeda3f5-2d87-4d52-9143-b34505e445f5",
   "metadata": {},
   "source": [
    "### TODO - Example results (different jupyter notebook loading pretrained embeddings)"
   ]
  },
  {
   "cell_type": "code",
   "execution_count": 10,
   "id": "412c1497-7822-4252-a8bc-6c3d5d43076c",
   "metadata": {},
   "outputs": [],
   "source": [
    "#save model\n",
    "now = datetime.now()\n",
    "dt_string = now.strftime(\"%d-%m-%Y_%H-%M-%S\")\n",
    "\n",
    "save_name = 'card2vec-' + set_name + '-w' + str(window_size) + '-v' + str(vector_size) + '-e' + str(epochs) + dt_string +'.model'\n",
    "model.save(\"models\\\\\" + save_name)"
   ]
  },
  {
   "cell_type": "code",
   "execution_count": null,
   "id": "fc235ad2-4c21-425d-b5e0-055a575bd478",
   "metadata": {},
   "outputs": [],
   "source": [
    "model.wv.most_similar('Black Market Tycoon', topn=5)"
   ]
  },
  {
   "cell_type": "code",
   "execution_count": null,
   "id": "a0210d5c-5dc9-479d-bb1b-c2761c7d5a75",
   "metadata": {},
   "outputs": [],
   "source": [
    "vect = model.wv['Call In a Professional'] - model.wv['Mountain'] + model.wv['Swamp']"
   ]
  },
  {
   "cell_type": "code",
   "execution_count": null,
   "id": "42692ab6-b7d1-447b-b749-969e9e39e807",
   "metadata": {},
   "outputs": [],
   "source": [
    "model.wv.similar_by_vector(vect)"
   ]
  },
  {
   "cell_type": "code",
   "execution_count": null,
   "id": "774e8d53-6e76-4bda-a715-80aba5cf6022",
   "metadata": {},
   "outputs": [],
   "source": [
    "# deck_cols_dict = {deck_cols[i]:i for i in range(0,len(deck_cols))}\n",
    "# deck_cols_dict_rev = {i:deck_cols[i] for i in range(0,len(deck_cols))}"
   ]
  },
  {
   "cell_type": "code",
   "execution_count": null,
   "id": "037336a2-c45f-4f3e-8b20-a6bd6359661a",
   "metadata": {},
   "outputs": [],
   "source": [
    "vect = model.wv['Riveteers Initiate'] - model.wv['Mountain'] + model.wv['Swamp']"
   ]
  }
 ],
 "metadata": {
  "kernelspec": {
   "display_name": "Python 3 (ipykernel)",
   "language": "python",
   "name": "python3"
  },
  "language_info": {
   "codemirror_mode": {
    "name": "ipython",
    "version": 3
   },
   "file_extension": ".py",
   "mimetype": "text/x-python",
   "name": "python",
   "nbconvert_exporter": "python",
   "pygments_lexer": "ipython3",
   "version": "3.9.12"
  }
 },
 "nbformat": 4,
 "nbformat_minor": 5
}
